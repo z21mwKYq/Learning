{
 "cells": [
  {
   "cell_type": "markdown",
   "id": "varied-sandwich",
   "metadata": {},
   "source": [
    "# Работа со строками"
   ]
  },
  {
   "cell_type": "markdown",
   "id": "excess-archives",
   "metadata": {},
   "source": [
    "Строки можно сравнивать:"
   ]
  },
  {
   "cell_type": "code",
   "execution_count": 1,
   "id": "impressed-walker",
   "metadata": {},
   "outputs": [
    {
     "name": "stdout",
     "output_type": "stream",
     "text": [
      "True\n"
     ]
    }
   ],
   "source": [
    "s1 = 'Vova'\n",
    "s2 = 'Vova'\n",
    "if s1 == s2:\n",
    "    print ('True')\n",
    "else:\n",
    "    print('False')"
   ]
  },
  {
   "cell_type": "markdown",
   "id": "imposed-street",
   "metadata": {},
   "source": [
    "Перебор строк:"
   ]
  },
  {
   "cell_type": "code",
   "execution_count": 2,
   "id": "incredible-election",
   "metadata": {},
   "outputs": [
    {
     "name": "stdout",
     "output_type": "stream",
     "text": [
      "A\n",
      "T\n",
      "T\n",
      "G\n"
     ]
    }
   ],
   "source": [
    "genome = 'ATTG'\n",
    "for o in genome:\n",
    "    print(o)"
   ]
  },
  {
   "cell_type": "markdown",
   "id": "polished-western",
   "metadata": {},
   "source": [
    "## Методы"
   ]
  },
  {
   "cell_type": "code",
   "execution_count": 5,
   "id": "injured-creek",
   "metadata": {},
   "outputs": [
    {
     "name": "stdout",
     "output_type": "stream",
     "text": [
      "I AM WRITING\n",
      "i am writing\n",
      "2\n",
      "7\n",
      "I aM writing\n"
     ]
    }
   ],
   "source": [
    "s = 'I am writing'\n",
    "s.upper() #Все буквы заглавные\n",
    "s.lower() #Все буквы прописные\n",
    "s.count('i') #кол-во раз, за которые встречается буква w\n",
    "s.find('i') #Первое вхождение (индекс) i в строке s\n",
    "#лучше использовать конструкцию if 'i' in s \n",
    "s.replace('m', 'M') #Замена m на M\n",
    "\n",
    "print(s.upper()) \n",
    "print(s.lower())\n",
    "print(s.count('i')) \n",
    "print(s.find('i'))\n",
    "print(s.replace('m', 'M'))"
   ]
  },
  {
   "cell_type": "markdown",
   "id": "medical-istanbul",
   "metadata": {},
   "source": [
    "**Можно использовать несколько методов последовательно:"
   ]
  },
  {
   "cell_type": "code",
   "execution_count": 6,
   "id": "median-excess",
   "metadata": {},
   "outputs": [
    {
     "name": "stdout",
     "output_type": "stream",
     "text": [
      "1\n"
     ]
    }
   ],
   "source": [
    "s = 'I am writing'\n",
    "print(s.upper().count('ing'.upper()))\n"
   ]
  },
  {
   "cell_type": "markdown",
   "id": "pacific-antenna",
   "metadata": {},
   "source": [
    "## Срезы"
   ]
  },
  {
   "cell_type": "code",
   "execution_count": 7,
   "id": "convinced-mambo",
   "metadata": {},
   "outputs": [
    {
     "name": "stdout",
     "output_type": "stream",
     "text": [
      "T\n",
      "TTC\n",
      "GGAGCT\n",
      "A\n",
      "TTCGGAGC\n",
      "TCGG\n",
      "TCGAGGCTTA\n"
     ]
    }
   ],
   "source": [
    "dna = 'ATTCGGAGCT'\n",
    "print(dna[1])\n",
    "print(dna[1:4]) #4 символ не считается\n",
    "print(dna[4:])\n",
    "print(dna[-4])\n",
    "print(dna[1:-1])\n",
    "print(dna[1:-1:2]) #2 - шаг\n",
    "print(dna[::-1]) #Перевернуть надпись"
   ]
  },
  {
   "cell_type": "code",
   "execution_count": 9,
   "id": "outstanding-rochester",
   "metadata": {},
   "outputs": [
    {
     "name": "stdout",
     "output_type": "stream",
     "text": [
      "Слово vova - НЕполиндром\n",
      "Слово abba - полиндром\n"
     ]
    }
   ],
   "source": [
    "#Определение слока как полиндрома\n",
    "def poli(s:str):\n",
    "    r = s[::-1] #делаем еще сторку из перевернотой первоночальной\n",
    "    if s == r:\n",
    "        print(f'Слово {s} - полиндром')\n",
    "    else:\n",
    "        print(f'Слово {s} - НЕполиндром')\n",
    "        \n",
    "\n",
    "poli('vova')\n",
    "poli('abba')"
   ]
  },
  {
   "cell_type": "code",
   "execution_count": null,
   "id": "frank-beginning",
   "metadata": {},
   "outputs": [],
   "source": []
  }
 ],
 "metadata": {
  "kernelspec": {
   "display_name": "Python 3",
   "language": "python",
   "name": "python3"
  },
  "language_info": {
   "codemirror_mode": {
    "name": "ipython",
    "version": 3
   },
   "file_extension": ".py",
   "mimetype": "text/x-python",
   "name": "python",
   "nbconvert_exporter": "python",
   "pygments_lexer": "ipython3",
   "version": "3.9.0"
  }
 },
 "nbformat": 4,
 "nbformat_minor": 5
}
